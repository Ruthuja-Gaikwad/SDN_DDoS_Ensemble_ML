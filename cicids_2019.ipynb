{
  "cells": [
    {
      "cell_type": "markdown",
      "metadata": {
        "id": "view-in-github",
        "colab_type": "text"
      },
      "source": [
        "<a href=\"https://colab.research.google.com/github/Ruthuja-Gaikwad/SDN_DDoS_Ensemble_ML/blob/main/cicids_2019.ipynb\" target=\"_parent\"><img src=\"https://colab.research.google.com/assets/colab-badge.svg\" alt=\"Open In Colab\"/></a>"
      ]
    },
    {
      "cell_type": "code",
      "execution_count": null,
      "metadata": {
        "id": "i-qFs33TaSCi"
      },
      "outputs": [],
      "source": [
        "import pandas as pd\n",
        "df = pd.read_csv(\"/content/UDPLag_data_2_0_per.csv\")\n",
        "df.head()"
      ]
    },
    {
      "cell_type": "code",
      "execution_count": null,
      "metadata": {
        "id": "l5pvGBlsaYV-"
      },
      "outputs": [],
      "source": [
        "df.drop(columns=['Flow ID'], inplace=True)"
      ]
    },
    {
      "cell_type": "code",
      "execution_count": null,
      "metadata": {
        "id": "f3lcxl0HaecJ"
      },
      "outputs": [],
      "source": [
        "print(\"Datatype of Dataframe i.e. Pandas Dataframe: \", type(df))\n",
        "print(\"Datatype of Column i.e. Pandas Series: \", type(df.iloc[:, 1]))\n",
        "df.head()"
      ]
    },
    {
      "cell_type": "code",
      "execution_count": null,
      "metadata": {
        "id": "vxLYFWhpaggs"
      },
      "outputs": [],
      "source": [
        "df.columns = df.columns.str.strip().str.lower().str.replace(' ', '_').str.replace('(', '').str.replace(')', '')\n",
        "df.head()"
      ]
    },
    {
      "cell_type": "code",
      "execution_count": null,
      "metadata": {
        "id": "w1o4H5IQH5we"
      },
      "outputs": [],
      "source": [
        "import numpy as np"
      ]
    },
    {
      "cell_type": "code",
      "execution_count": null,
      "metadata": {
        "id": "jF5v22gUam6z"
      },
      "outputs": [],
      "source": [
        "indices_to_keep = ~df.isin([np.nan, np.inf, -np.inf]).any(axis=1)"
      ]
    },
    {
      "cell_type": "code",
      "execution_count": null,
      "metadata": {
        "id": "Inn8YOlLaqzS"
      },
      "outputs": [],
      "source": [
        "import pandas as pd\n",
        "import numpy as np\n",
        "\n",
        "def clean_dataset(df):\n",
        "    assert isinstance(df, pd.DataFrame), \"df needs to be a pd.DataFrame\"\n",
        "    df.replace([np.inf, -np.inf], np.nan, inplace=True)\n",
        "    df.dropna(inplace=True)\n",
        "    return df\n"
      ]
    },
    {
      "cell_type": "code",
      "execution_count": null,
      "metadata": {
        "id": "UfFjoZ3rase4"
      },
      "outputs": [],
      "source": [
        "import pandas as pd\n",
        "import numpy as np\n",
        "\n",
        "def clean_dataset(df):\n",
        "    assert isinstance(df, pd.DataFrame), \"df needs to be a pd.DataFrame\"\n",
        "    df.replace([np.inf, -np.inf], np.nan, inplace=True)\n",
        "    df.dropna(inplace=True)\n",
        "    return df\n",
        "\n",
        "# Assuming 'df' is your original DataFrame\n",
        "df_cleaned = clean_dataset(df.copy()) # Create df_cleaned by calling the function\n",
        "\n",
        "# Resetting the index and dropping the 'index' column\n",
        "df_cleaned = df_cleaned.reset_index(drop=True)\n",
        "\n",
        "# Checking if 'Flow ID' column exists before dropping\n",
        "if 'Flow ID' in df_cleaned.columns:\n",
        "    df_cleaned.drop('Flow ID', axis=1, inplace=True)\n",
        "\n",
        "df_cleaned"
      ]
    },
    {
      "cell_type": "code",
      "execution_count": null,
      "metadata": {
        "id": "_pO5Xr4kbA0X"
      },
      "outputs": [],
      "source": [
        "df.columns.tolist()"
      ]
    },
    {
      "cell_type": "code",
      "execution_count": null,
      "metadata": {
        "id": "Ez9_XB9obFst"
      },
      "outputs": [],
      "source": [
        "# Saving the label attribute before dropping it.\n",
        "df_labels = df_cleaned['label']\n",
        "# Shows all the possible labels/ classes a model can predict.\n",
        "# Need to alter these to numeric 0, 1, etc... for model comprehension (e.g. pd.get_dummies()).\n",
        "df_labels.unique()"
      ]
    },
    {
      "cell_type": "code",
      "execution_count": null,
      "metadata": {
        "id": "Y0300SnlbK93"
      },
      "outputs": [],
      "source": [
        "# Axis=1 means columns. Axis=0 means rows. inplace=False means that the original 'df' isn't altered.\n",
        "df_no_labels = df_cleaned.drop('label', axis=1, inplace=False)\n",
        "# Getting feature names for the StandardScaler process\n",
        "df_features = df_no_labels.columns.tolist()\n",
        "# Printing out Dataframe with no label column, to show successful dropping\n",
        "df_no_labels"
      ]
    },
    {
      "cell_type": "code",
      "execution_count": null,
      "metadata": {
        "id": "oUCGUlwVbQ-a"
      },
      "outputs": [],
      "source": [
        "print(df_cleaned.columns)"
      ]
    },
    {
      "cell_type": "code",
      "execution_count": null,
      "metadata": {
        "id": "fEtsIU8rbUWf"
      },
      "outputs": [],
      "source": [
        "# Replace infinite values with NaN\n",
        "df_no_labels.replace([np.inf, -np.inf], np.nan, inplace=True)"
      ]
    },
    {
      "cell_type": "code",
      "execution_count": null,
      "metadata": {
        "id": "1x_6CEAVbYU3"
      },
      "outputs": [],
      "source": [
        "import pandas as pd\n",
        "import numpy as np\n",
        "from sklearn.preprocessing import StandardScaler\n",
        "\n",
        "# Display initial info\n",
        "print(\"Initial DataFrame info:\")\n",
        "print(df_cleaned.info())\n",
        "\n",
        "# Identify categorical columns\n",
        "categorical_columns = df_cleaned.select_dtypes(include=['object']).columns\n",
        "print(\"\\nCategorical columns identified:\")\n",
        "print(categorical_columns)\n",
        "\n",
        "# Drop categorical columns\n",
        "df_no_labels = df_cleaned.drop(categorical_columns, axis=1)\n",
        "\n",
        "# Convert all values to numeric, setting errors='coerce' to turn non-numeric values into NaN\n",
        "df_no_labels = df_no_labels.apply(pd.to_numeric, errors='coerce')\n",
        "\n",
        "# Print info after conversion to numeric\n",
        "print(\"\\nDataFrame info after converting to numeric:\")\n",
        "print(df_no_labels.info())\n",
        "\n",
        "# Replace infinite values with NaN\n",
        "df_no_labels.replace([np.inf, -np.inf], np.nan, inplace=True)\n",
        "\n",
        "# Drop rows with any NaN values\n",
        "df_no_labels = df_no_labels.dropna()\n",
        "\n",
        "# Check if DataFrame is empty after dropping NaN values\n",
        "if df_no_labels.empty:\n",
        "    print(\"DataFrame is empty after dropping NaN values. Please check the data.\")\n",
        "else:\n",
        "    # Display info of the DataFrame after dropping NaNs\n",
        "    print(\"\\nDataFrame info after dropping NaNs:\")\n",
        "    print(df_no_labels.info())\n",
        "\n",
        "    # Handle any remaining missing values if necessary\n",
        "    if df_no_labels.isnull().values.any():\n",
        "        df_no_labels = df_no_labels.fillna(df_no_labels.mean())  # Example: filling with column mean\n",
        "\n",
        "    # Standardize the numerical columns\n",
        "    scaler = StandardScaler()\n",
        "    df_scaled = pd.DataFrame(scaler.fit_transform(df_no_labels), columns=df_no_labels.columns)\n",
        "    print(\"\\nScaled DataFrame:\")\n",
        "    print(df_scaled.head())\n"
      ]
    },
    {
      "cell_type": "code",
      "execution_count": null,
      "metadata": {
        "id": "dCO03q0PbeCB"
      },
      "outputs": [],
      "source": [
        "import numpy as np\n",
        "from sklearn.preprocessing import StandardScaler\n",
        "from sklearn.decomposition import PCA # Import PCA class\n",
        "\n",
        "# Define the number of components for PCA\n",
        "dimensions_num_for_PCA = 2  # Set this to the desired number of components\n",
        "\n",
        "pca = PCA(n_components=dimensions_num_for_PCA)\n",
        "#principal_components = pca.fit(df_scaled).transform(df_scaled) => for normalised PCA\n",
        "\n",
        "# Non-normalised PCA\n",
        "principal_components = pca.fit(df_no_labels).transform(df_no_labels)\n",
        "principal_components"
      ]
    },
    {
      "cell_type": "code",
      "execution_count": null,
      "metadata": {
        "id": "xzg6sdbcg_H_"
      },
      "outputs": [],
      "source": [
        "import numpy as np\n",
        "from sklearn.preprocessing import StandardScaler\n",
        "from sklearn.decomposition import PCA # Import PCA class\n",
        "\n",
        "# Define the number of components for PCA\n",
        "dimensions_num_for_PCA = 2  # Set this to the desired number of components\n",
        "\n",
        "# Define the function to generate names for principal components\n",
        "def get_PCA_feature_names(num_components):\n",
        "    return [\"PC\" + str(i+1) for i in range(num_components)]\n",
        "\n",
        "pca = PCA(n_components=dimensions_num_for_PCA)\n",
        "\n",
        "# Non-normalised PCA\n",
        "principal_components = pca.fit(df_no_labels).transform(df_no_labels)\n",
        "\n",
        "principal_component_headings = get_PCA_feature_names(dimensions_num_for_PCA)\n",
        "print(principal_component_headings)"
      ]
    },
    {
      "cell_type": "code",
      "execution_count": null,
      "metadata": {
        "id": "TbN4GHS6hVzT"
      },
      "outputs": [],
      "source": [
        "df_pc = pd.DataFrame(data = principal_components, columns = principal_component_headings)\n",
        "df_pc"
      ]
    },
    {
      "cell_type": "code",
      "execution_count": null,
      "metadata": {
        "id": "f49YozlehaCf"
      },
      "outputs": [],
      "source": [
        "df_final = pd.concat([df_pc, df_labels], axis = 1)\n",
        "# Scroll to the RHS end of dataframe to see attached label feature\n",
        "df_final"
      ]
    },
    {
      "cell_type": "code",
      "execution_count": null,
      "metadata": {
        "id": "O2RhTJ6qhfik"
      },
      "outputs": [],
      "source": [
        "import pandas as pd\n",
        "from sklearn.preprocessing import LabelBinarizer # Import LabelBinarizer\n",
        "\n",
        "lb = LabelBinarizer()\n",
        "df_final['label'] = lb.fit_transform(df_final['label'])\n",
        "df_final"
      ]
    },
    {
      "cell_type": "code",
      "execution_count": null,
      "metadata": {
        "id": "bMLOIYTUhvPM"
      },
      "outputs": [],
      "source": [
        "print(\"Before LabelBinarizer: \", df_labels.unique())\n",
        "print(\"After LabelBinarizer: \", df_final['label'].unique())"
      ]
    },
    {
      "cell_type": "code",
      "execution_count": null,
      "metadata": {
        "id": "NPRUNN_Mihqq"
      },
      "outputs": [],
      "source": [
        "# Separating the label so that the answers aren't provided to the model, in training.\n",
        "X = df_final.drop(['label'], axis = 1)\n",
        "y = df_final['label']\n",
        "y"
      ]
    },
    {
      "cell_type": "code",
      "execution_count": null,
      "metadata": {
        "id": "Q8eVqGYOijs5"
      },
      "outputs": [],
      "source": [
        "import pandas as pd\n",
        "from sklearn.model_selection import StratifiedKFold # Import StratifiedKFold\n",
        "\n",
        "# Define the number of splits\n",
        "num_of_splits_for_skf = 5  # Set this to your desired number of splits\n",
        "\n",
        "skf = StratifiedKFold(n_splits=num_of_splits_for_skf, shuffle=False)\n",
        "skf"
      ]
    },
    {
      "cell_type": "code",
      "execution_count": null,
      "metadata": {
        "id": "gYXU7Knei-48"
      },
      "outputs": [],
      "source": [
        "for train_index, test_index in skf.split(X, y):\n",
        "    X_train, X_test = X.iloc[train_index], X.iloc[test_index]\n",
        "    y_train, y_test = y.iloc[train_index], y.iloc[test_index]\n",
        "\n",
        "    reshaped_y_train = np.asarray(y_train).reshape(-1, 1)\n",
        "    reshaped_y_test = np.asarray(y_test).reshape(-1, 1)\n",
        "\n",
        "print( 'X_train length: ', len(X_train) ) # To check if splits worked\n",
        "print( 'y_train length: ', len(y_train) )\n",
        "print( 'X_test length: ', len(X_test) )\n",
        "print( 'y_test length: ', len(y_test) )"
      ]
    },
    {
      "cell_type": "code",
      "execution_count": null,
      "metadata": {
        "id": "gy1ce4BTjD7V"
      },
      "outputs": [],
      "source": [
        "from sklearn.neural_network import MLPClassifier\n",
        "from sklearn.naive_bayes import BernoulliNB\n",
        "from sklearn.linear_model import PassiveAggressiveClassifier, SGDClassifier\n",
        "from sklearn.ensemble import VotingClassifier\n",
        "from sklearn.metrics import accuracy_score, precision_score, recall_score, confusion_matrix\n",
        "\n",
        "# Create classifiers\n",
        "mlp_classifier = MLPClassifier(random_state=42)\n",
        "nb_classifier = BernoulliNB()\n",
        "pa_classifier = PassiveAggressiveClassifier(random_state=42)\n",
        "sgd_classifier = SGDClassifier(random_state=42)\n",
        "\n",
        "# Create a Voting Classifier with the above classifiers\n",
        "voting_classifier = VotingClassifier(\n",
        "    estimators=[\n",
        "        ('mlp', mlp_classifier),\n",
        "        ('nb', nb_classifier),\n",
        "        ('pa', pa_classifier),\n",
        "        ('sgd', sgd_classifier)\n",
        "    ],\n",
        "    voting='hard'  # 'hard' for majority voting, 'soft' for weighted voting based on probabilities\n",
        ")\n",
        "\n",
        "# Train all classifiers\n",
        "mlp_classifier.fit(X_train, y_train)\n",
        "nb_classifier.fit(X_train, y_train)\n",
        "pa_classifier.fit(X_train, y_train)\n",
        "sgd_classifier.fit(X_train, y_train)\n",
        "voting_classifier.fit(X_train, y_train)\n",
        "\n",
        "# Make predictions on the test data\n",
        "y_pred_mlp = mlp_classifier.predict(X_test)\n",
        "y_pred_nb = nb_classifier.predict(X_test)\n",
        "y_pred_pa = pa_classifier.predict(X_test)\n",
        "y_pred_sgd = sgd_classifier.predict(X_test)\n",
        "y_pred_voting = voting_classifier.predict(X_test)\n",
        "\n",
        "# Calculate metrics for each classifier\n",
        "metrics_mlp = {\n",
        "    'accuracy': accuracy_score(y_test, y_pred_mlp),\n",
        "    'precision': precision_score(y_test, y_pred_mlp, average='weighted'),\n",
        "    'recall': recall_score(y_test, y_pred_mlp, average='weighted'),\n",
        "    'confusion_matrix': confusion_matrix(y_test, y_pred_mlp)\n",
        "}\n",
        "\n",
        "metrics_nb = {\n",
        "    'accuracy': accuracy_score(y_test, y_pred_nb),\n",
        "    'precision': precision_score(y_test, y_pred_nb, average='weighted'),\n",
        "    'recall': recall_score(y_test, y_pred_nb, average='weighted'),\n",
        "    'confusion_matrix': confusion_matrix(y_test, y_pred_nb)\n",
        "}\n",
        "\n",
        "metrics_pa = {\n",
        "    'accuracy': accuracy_score(y_test, y_pred_pa),\n",
        "    'precision': precision_score(y_test, y_pred_pa, average='weighted'),\n",
        "    'recall': recall_score(y_test, y_pred_pa, average='weighted'),\n",
        "    'confusion_matrix': confusion_matrix(y_test, y_pred_pa)\n",
        "}\n",
        "\n",
        "metrics_sgd = {\n",
        "    'accuracy': accuracy_score(y_test, y_pred_sgd),\n",
        "    'precision': precision_score(y_test, y_pred_sgd, average='weighted'),\n",
        "    'recall': recall_score(y_test, y_pred_sgd, average='weighted'),\n",
        "    'confusion_matrix': confusion_matrix(y_test, y_pred_sgd)\n",
        "}\n",
        "\n",
        "metrics_voting = {\n",
        "    'accuracy': accuracy_score(y_test, y_pred_voting),\n",
        "    'precision': precision_score(y_test, y_pred_voting, average='weighted'),\n",
        "    'recall': recall_score(y_test, y_pred_voting, average='weighted'),\n",
        "    'confusion_matrix': confusion_matrix(y_test, y_pred_voting)\n",
        "}\n",
        "\n",
        "# Print metrics for each classifier\n",
        "print(\"MLP Classifier Metrics:\")\n",
        "print(metrics_mlp)\n",
        "\n",
        "print(\"\\nBernoulli Naive Bayes Metrics:\")\n",
        "print(metrics_nb)\n",
        "\n",
        "print(\"\\nPassive Aggressive Classifier Metrics:\")\n",
        "print(metrics_pa)\n",
        "\n",
        "print(\"\\nStochastic Gradient Descent (SGD) Classifier Metrics:\")\n",
        "print(metrics_sgd)\n",
        "\n",
        "print(\"\\nEnsemble Model (Voting Classifier) Metrics:\")\n",
        "print(metrics_voting)\n"
      ]
    },
    {
      "cell_type": "code",
      "execution_count": null,
      "metadata": {
        "colab": {
          "background_save": true
        },
        "id": "AELp2q1ckSu6",
        "outputId": "34baf391-d33b-426a-f49e-fbf1c499906f"
      },
      "outputs": [
        {
          "data": {
            "image/png": "[encoded data removed]",
            "text/plain": [
              "<Figure size 1200x800 with 1 Axes>"
            ]
          },
          "metadata": {},
          "output_type": "display_data"
        }
      ],
      "source": [
        "import matplotlib.pyplot as plt\n",
        "import numpy as np\n",
        "\n",
        "# Data for plotting\n",
        "classifiers = ['BernoulliNB', 'PA', 'SGD', 'MLP', 'Ensemble']\n",
        "recall_scores = [0.49, 0.49, 0.66, 0.99, 0.65]\n",
        "f1_scores = [0.50, 0.45, 0.79, 0.99, 0.63]\n",
        "accuracy_scores = [0.49, 0.54, 0.66, 0.99, 0.65]\n",
        "precision_scores = [0.57, 0.57, 0.82, 0.98, 0.64]\n",
        "\n",
        "x = np.arange(len(classifiers))\n",
        "\n",
        "# Plot Recall Performance\n",
        "plt.figure(figsize=(12, 8))\n",
        "bar_width = 0.2\n",
        "\n",
        "plt.bar(x - 1.5 * bar_width, recall_scores, width=bar_width, color='skyblue', label='Recall')\n",
        "plt.bar(x - 0.5 * bar_width, f1_scores, width=bar_width, color='lightcoral', label='F1 Score')\n",
        "plt.bar(x + 0.5 * bar_width, accuracy_scores, width=bar_width, color='gray', label='Accuracy')\n",
        "plt.bar(x + 1.5 * bar_width, precision_scores, width=bar_width, color='gold', label='Precision')\n",
        "\n",
        "plt.xticks(x, classifiers)\n",
        "plt.ylim(0.4, 1.0)\n",
        "plt.ylabel('Scores')\n",
        "plt.title('Performance Metrics of Classifiers')\n",
        "plt.legend()\n",
        "plt.tight_layout()\n",
        "\n",
        "plt.savefig('Performance_Metrics.png')\n",
        "plt.show()\n"
      ]
    }
  ],
  "metadata": {
    "colab": {
      "provenance": [],
      "authorship_tag": "ABX9TyM9ZLxAU4n7Fl8n/fk1Wskh",
      "include_colab_link": true
    },
    "kernelspec": {
      "display_name": "Python 3",
      "name": "python3"
    },
    "language_info": {
      "name": "python"
    }
  },
  "nbformat": 4,
  "nbformat_minor": 0
}